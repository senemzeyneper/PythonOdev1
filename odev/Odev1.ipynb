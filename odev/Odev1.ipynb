{
 "cells": [
  {
   "cell_type": "markdown",
   "id": "b1fd45b2-6360-47c9-aa4d-81e08a667ffc",
   "metadata": {},
   "source": [
    "## Bölüm 1: Veri Tipleri"
   ]
  },
  {
   "cell_type": "code",
   "execution_count": 329,
   "id": "36d37b5f-a728-4dfe-a729-8fa9ba6d1371",
   "metadata": {},
   "outputs": [],
   "source": [
    "#1."
   ]
  },
  {
   "cell_type": "code",
   "execution_count": 333,
   "id": "6693c0ff-b843-4cf2-8f56-1ca7487e4a6c",
   "metadata": {},
   "outputs": [
    {
     "name": "stdin",
     "output_type": "stream",
     "text": [
      "Adınızı giriniz : Elif\n",
      "Yaşınızı giriniz : 5\n",
      "Boyunuzu giriniz : 120\n"
     ]
    }
   ],
   "source": [
    "kullaniciAdi = input(\"Adınızı giriniz :\")\n",
    "kullaniciYas = input(\"Yaşınızı giriniz :\")\n",
    "kullaniciBoy = input (\"Boyunuzu giriniz :\")"
   ]
  },
  {
   "cell_type": "code",
   "execution_count": 335,
   "id": "29cd4467-b4b0-45d9-97e8-e89b4d4ddcd9",
   "metadata": {},
   "outputs": [],
   "source": [
    "kullaniciIntYas = int(kullaniciYas)\n",
    "kullaniciFoatBoy = float(kullaniciBoy)"
   ]
  },
  {
   "cell_type": "code",
   "execution_count": 337,
   "id": "108ca11a-b46e-4950-88b6-5c2ef660ba01",
   "metadata": {},
   "outputs": [
    {
     "name": "stdout",
     "output_type": "stream",
     "text": [
      "Kullanıcı Adı :Elif\n",
      "Kullanıcı Yaşı : 5\n",
      "Kullanıcı Boyu : 120.0\n"
     ]
    }
   ],
   "source": [
    "print(\"Kullanıcı Adı :\" + kullaniciAdi)\n",
    "print(\"Kullanıcı Yaşı :\" , kullaniciIntYas)\n",
    "print(\"Kullanıcı Boyu :\" , kullaniciFoatBoy)"
   ]
  },
  {
   "cell_type": "code",
   "execution_count": 339,
   "id": "c71adee6-5dd6-46ad-a5f5-18c0ec290f3d",
   "metadata": {},
   "outputs": [],
   "source": [
    "#2."
   ]
  },
  {
   "cell_type": "code",
   "execution_count": 341,
   "id": "5a7f24a2-63f9-4ed9-824c-c8188104d836",
   "metadata": {},
   "outputs": [],
   "source": [
    "matematikNotu = 50\n",
    "fizikNotu = 70\n",
    "kimyaNotu = 80"
   ]
  },
  {
   "cell_type": "code",
   "execution_count": 343,
   "id": "f984df51-3a3d-46f7-b5b1-5397ee22fe00",
   "metadata": {},
   "outputs": [
    {
     "name": "stdout",
     "output_type": "stream",
     "text": [
      "<class 'float'>\n",
      "66.66666666666667\n"
     ]
    }
   ],
   "source": [
    "ortalama = (matematikNotu + fizikNotu + kimyaNotu) / 3\n",
    "print(type(ortalama))\n",
    "print(ortalama)"
   ]
  },
  {
   "cell_type": "code",
   "execution_count": 345,
   "id": "3144f4d8-9997-4eb5-90b9-8a34ec51c406",
   "metadata": {},
   "outputs": [],
   "source": [
    "#3."
   ]
  },
  {
   "cell_type": "code",
   "execution_count": 347,
   "id": "a263a570-1688-494e-92ec-f8f25a76d2d2",
   "metadata": {},
   "outputs": [
    {
     "name": "stdout",
     "output_type": "stream",
     "text": [
      "İ\n",
      "l\n",
      "8\n",
      "lubnatsİ\n"
     ]
    }
   ],
   "source": [
    "strDegisken = \"İstanbul\"\n",
    "print(strDegisken[0])\n",
    "print(strDegisken[-1])\n",
    "print(len(strDegisken))\n",
    "print(strDegisken[::-1])"
   ]
  },
  {
   "cell_type": "markdown",
   "id": "4d844fca-ebc7-40db-995e-a26121c9ac48",
   "metadata": {},
   "source": [
    "## Bölüm 2: Operatörler"
   ]
  },
  {
   "cell_type": "code",
   "execution_count": 350,
   "id": "29c984f2-68f1-4695-8512-d01b24869ed9",
   "metadata": {},
   "outputs": [],
   "source": [
    "#4."
   ]
  },
  {
   "cell_type": "code",
   "execution_count": 352,
   "id": "0c79bd33-3a20-4b44-8f20-ae2edaa67a59",
   "metadata": {},
   "outputs": [
    {
     "name": "stdin",
     "output_type": "stream",
     "text": [
      "1.sayıyı giriniz :  25\n",
      "2.sayıyı giriniz :  6\n"
     ]
    }
   ],
   "source": [
    "birinciSayi = input(\"1.sayıyı giriniz : \")\n",
    "ikinciSayi = input(\"2.sayıyı giriniz : \")"
   ]
  },
  {
   "cell_type": "code",
   "execution_count": 354,
   "id": "d6249e71-58fd-4724-ad1a-d753a92cdfe2",
   "metadata": {},
   "outputs": [],
   "source": [
    "birinciIntSayi = int(birinciSayi)\n",
    "ikinciIntSayi = int(ikinciSayi)"
   ]
  },
  {
   "cell_type": "code",
   "execution_count": 356,
   "id": "14a8a240-c747-4ff8-9968-78390a2ca4ac",
   "metadata": {},
   "outputs": [
    {
     "name": "stdout",
     "output_type": "stream",
     "text": [
      "31\n",
      "19\n",
      "150\n",
      "4.166666666666667\n",
      "1\n"
     ]
    }
   ],
   "source": [
    "print(birinciIntSayi + ikinciIntSayi)\n",
    "print(birinciIntSayi - ikinciIntSayi)\n",
    "print(birinciIntSayi * ikinciIntSayi)\n",
    "print(birinciIntSayi / ikinciIntSayi)\n",
    "print(birinciIntSayi % ikinciIntSayi)"
   ]
  },
  {
   "cell_type": "code",
   "execution_count": 358,
   "id": "f1b53f60-12d8-43f0-8919-8bf0eb6cf91f",
   "metadata": {},
   "outputs": [],
   "source": [
    "#5."
   ]
  },
  {
   "cell_type": "code",
   "execution_count": 360,
   "id": "e9d72821-2144-42fa-8f0b-e5b045466a1c",
   "metadata": {},
   "outputs": [
    {
     "name": "stdout",
     "output_type": "stream",
     "text": [
      "Geçti\n"
     ]
    }
   ],
   "source": [
    "notOrtalaması = 55\n",
    "print(notOrtalaması > 50 and \"Geçti\" or \"Kaldı\")"
   ]
  },
  {
   "cell_type": "code",
   "execution_count": 362,
   "id": "9d3a0a79-1458-4a74-9c6c-4874b20d8456",
   "metadata": {},
   "outputs": [],
   "source": [
    "#6."
   ]
  },
  {
   "cell_type": "code",
   "execution_count": 364,
   "id": "0b0d56c2-2086-4c97-8e18-51cf168c81ca",
   "metadata": {},
   "outputs": [
    {
     "name": "stdin",
     "output_type": "stream",
     "text": [
      "Yaşınızı giriniz : 20\n"
     ]
    }
   ],
   "source": [
    "kullaniciYas2 = input(\"Yaşınızı giriniz :\")"
   ]
  },
  {
   "cell_type": "code",
   "execution_count": 366,
   "id": "f8ca45fc-f7f1-46f6-9af8-d3af0c2a656f",
   "metadata": {},
   "outputs": [],
   "source": [
    "kullaniciIntYas2 = int(kullaniciYas2)"
   ]
  },
  {
   "cell_type": "code",
   "execution_count": 368,
   "id": "2ba2c5d5-1261-40cb-9f83-a9bb244b8d71",
   "metadata": {},
   "outputs": [
    {
     "name": "stdout",
     "output_type": "stream",
     "text": [
      "Ehliyet alabilirsiniz\n"
     ]
    }
   ],
   "source": [
    "print(kullaniciIntYas2 > 18 and \"Ehliyet alabilirsiniz\" or \"Ehliyet alamazsınız\")"
   ]
  },
  {
   "cell_type": "code",
   "execution_count": 370,
   "id": "878b1992-711d-4eb3-a630-62497cdff77b",
   "metadata": {},
   "outputs": [],
   "source": [
    "#7."
   ]
  },
  {
   "cell_type": "code",
   "execution_count": 372,
   "id": "f24a0c21-a62b-40dc-a4fc-ff749d1a2ed5",
   "metadata": {},
   "outputs": [
    {
     "name": "stdout",
     "output_type": "stream",
     "text": [
      "92.84\n"
     ]
    }
   ],
   "source": [
    "urunFiyat = 105.5\n",
    "indirimOran = 12\n",
    "indirimliFiyat = urunFiyat - ((urunFiyat * indirimOran)/100)\n",
    "print(indirimliFiyat)"
   ]
  },
  {
   "cell_type": "code",
   "execution_count": 374,
   "id": "e6befe67-2053-4d29-b459-a958b63ee7d7",
   "metadata": {},
   "outputs": [],
   "source": [
    "#8."
   ]
  },
  {
   "cell_type": "code",
   "execution_count": 376,
   "id": "6377c170-988e-4443-a1c9-767bbb1d1c92",
   "metadata": {},
   "outputs": [],
   "source": [
    "a = 12 == 12\n",
    "b = 45 < 12\n",
    "c = 12 != 12\n",
    "d = 34 >= 33"
   ]
  },
  {
   "cell_type": "code",
   "execution_count": 325,
   "id": "01ec8a02-8aa5-47ff-84d3-5aa2a286b2c6",
   "metadata": {},
   "outputs": [
    {
     "name": "stdout",
     "output_type": "stream",
     "text": [
      "False\n",
      "True\n",
      "False\n",
      "True\n",
      "True\n",
      "False\n",
      "True\n",
      "False\n"
     ]
    }
   ],
   "source": [
    "sonuc1 = a and b\n",
    "sonuc2 = a and d\n",
    "sonuc3 = b and c\n",
    "sonuc4 = a or b\n",
    "sonuc5 = a or d\n",
    "sonuc6 = b or c\n",
    "sonuc7 =not (a and b)\n",
    "sonuc8 =not (a or d)\n",
    "print(sonuc1)\n",
    "print(sonuc2)\n",
    "print(sonuc3)\n",
    "print(sonuc4)\n",
    "print(sonuc5)\n",
    "print(sonuc6)\n",
    "print(sonuc7)\n",
    "print(sonuc8)"
   ]
  },
  {
   "cell_type": "markdown",
   "id": "cd010727-7da8-4588-91df-c50520f883ee",
   "metadata": {},
   "source": [
    "## Bölüm 3: Mini Proje"
   ]
  },
  {
   "cell_type": "code",
   "execution_count": 378,
   "id": "aa32e057-f555-4117-9b17-0b9e39083e87",
   "metadata": {},
   "outputs": [],
   "source": [
    "#9."
   ]
  },
  {
   "cell_type": "code",
   "execution_count": 380,
   "id": "b77e8d84-a378-47ae-bc72-fd20f7f9b03b",
   "metadata": {},
   "outputs": [
    {
     "name": "stdin",
     "output_type": "stream",
     "text": [
      "1.ürünün fiyatını giriniz :  180\n",
      "2.ürünün fiyatını giriniz :  20\n",
      "3.ürünün fiyatını giriniz :  50\n"
     ]
    }
   ],
   "source": [
    "birinciUrun = input(\"1.ürünün fiyatını giriniz : \")\n",
    "ikinciUrun = input(\"2.ürünün fiyatını giriniz : \")\n",
    "ucuncuUrun = input(\"3.ürünün fiyatını giriniz : \")"
   ]
  },
  {
   "cell_type": "code",
   "execution_count": 382,
   "id": "7b7ff1ea-d17c-4947-b04a-603c8d165a81",
   "metadata": {},
   "outputs": [],
   "source": [
    "birinciIntUrun = int(birinciUrun)\n",
    "ikinciIntUrun = int(ikinciUrun)\n",
    "ucuncuIntUrun = int(ucuncuUrun)"
   ]
  },
  {
   "cell_type": "code",
   "execution_count": 384,
   "id": "6a11d31b-b529-40ab-b281-51e18d224457",
   "metadata": {},
   "outputs": [
    {
     "name": "stdout",
     "output_type": "stream",
     "text": [
      "250\n"
     ]
    }
   ],
   "source": [
    "toplamUrunFiyatı = birinciIntUrun + ikinciIntUrun + ucuncuIntUrun\n",
    "print(toplamUrunFiyatı)"
   ]
  },
  {
   "cell_type": "code",
   "execution_count": 386,
   "id": "ad0500df-b803-45ad-8b51-21f279d21e7c",
   "metadata": {},
   "outputs": [
    {
     "name": "stdout",
     "output_type": "stream",
     "text": [
      "225.0\n"
     ]
    }
   ],
   "source": [
    "print(toplamUrunFiyatı > 200 and (toplamUrunFiyatı-((toplamUrunFiyatı*10)/100)) or toplamUrunFiyatı)"
   ]
  },
  {
   "cell_type": "code",
   "execution_count": 388,
   "id": "6d175c6e-e23d-4bcd-bd0c-0f89bac56dfb",
   "metadata": {},
   "outputs": [],
   "source": [
    "#10."
   ]
  },
  {
   "cell_type": "code",
   "execution_count": 390,
   "id": "e37cec0e-ee60-489b-a42e-9e95cedd3763",
   "metadata": {},
   "outputs": [
    {
     "name": "stdin",
     "output_type": "stream",
     "text": [
      "Doğum yılınızı giriniz :  1998\n"
     ]
    }
   ],
   "source": [
    "dogumYılı = input(\"Doğum yılınızı giriniz : \")"
   ]
  },
  {
   "cell_type": "code",
   "execution_count": 392,
   "id": "127ca55b-a8fe-49e8-b327-e553df7d5c29",
   "metadata": {},
   "outputs": [
    {
     "name": "stdout",
     "output_type": "stream",
     "text": [
      "27\n"
     ]
    }
   ],
   "source": [
    "dogumIntYılı = int(dogumYılı)\n",
    "kullaniciYasi = 2025- dogumIntYılı\n",
    "print(kullaniciYasi)"
   ]
  },
  {
   "cell_type": "code",
   "execution_count": 394,
   "id": "ac02fb83-bc15-45f2-b7fa-417eb878efe5",
   "metadata": {},
   "outputs": [
    {
     "name": "stdout",
     "output_type": "stream",
     "text": [
      "Yetişkinsiniz\n"
     ]
    }
   ],
   "source": [
    "print(0<=kullaniciYasi<=12 and \"Çocuksunuz\" or (13<=kullaniciYasi<=17 and \"Ergensiniz\" or \"Yetişkinsiniz\") )"
   ]
  },
  {
   "cell_type": "code",
   "execution_count": null,
   "id": "83f26faa-5226-4e00-9b08-a1e8d99c3df8",
   "metadata": {},
   "outputs": [],
   "source": []
  }
 ],
 "metadata": {
  "kernelspec": {
   "display_name": "Python [conda env:base] *",
   "language": "python",
   "name": "conda-base-py"
  },
  "language_info": {
   "codemirror_mode": {
    "name": "ipython",
    "version": 3
   },
   "file_extension": ".py",
   "mimetype": "text/x-python",
   "name": "python",
   "nbconvert_exporter": "python",
   "pygments_lexer": "ipython3",
   "version": "3.12.4"
  }
 },
 "nbformat": 4,
 "nbformat_minor": 5
}
